{
 "cells": [
  {
   "cell_type": "code",
   "execution_count": null,
   "metadata": {},
   "outputs": [],
   "source": [
    "def pgexec( conn, sqlcmd, args, msg, silent=False ):\n",
    " \"\"\" utility function to execute some SQL statement\n",
    " can take optional arguments to fill in (dictionary)\n",
    " error and transaction handling built-in \"\"\"\n",
    "    retval = False\n",
    "    with conn:\n",
    "         with conn.cursor() as cur:\n",
    "            try:\n",
    "                if args is None:\n",
    "                     cur.execute(sqlcmd)\n",
    "                else:\n",
    "                     cur.execute(sqlcmd, args)\n",
    "                if silent == False:\n",
    "                     print(\"success: \" + msg)\n",
    "                retval = True\n",
    "            except Exception as e:\n",
    "                if silent == False:\n",
    "            print(\"db error: \")\n",
    "            print(e)\n",
    "    return retval"
   ]
  },
  {
   "cell_type": "code",
   "execution_count": null,
   "metadata": {},
   "outputs": [],
   "source": [
    "query_stmt = \"SELECT * FROM Organisation\"\n",
    "print(query_stmt)\n",
    "pgquery (conn, query_stmt, None)"
   ]
  },
  {
   "cell_type": "code",
   "execution_count": null,
   "metadata": {},
   "outputs": [],
   "source": []
  }
 ],
 "metadata": {
  "kernelspec": {
   "display_name": "Python 3",
   "language": "python",
   "name": "python3"
  },
  "language_info": {
   "codemirror_mode": {
    "name": "ipython",
    "version": 3
   },
   "file_extension": ".py",
   "mimetype": "text/x-python",
   "name": "python",
   "nbconvert_exporter": "python",
   "pygments_lexer": "ipython3",
   "version": "3.7.4"
  }
 },
 "nbformat": 4,
 "nbformat_minor": 2
}
